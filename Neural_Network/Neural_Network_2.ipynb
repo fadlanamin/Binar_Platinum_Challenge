{
 "cells": [
  {
   "cell_type": "markdown",
   "id": "28cd9b97-6164-4010-bef0-802435a3ad47",
   "metadata": {
    "tags": []
   },
   "source": [
    "## Load the data"
   ]
  },
  {
   "cell_type": "code",
   "execution_count": 1,
   "id": "e2328b44-75f7-4ce4-a441-265d028def9d",
   "metadata": {
    "tags": []
   },
   "outputs": [
    {
     "data": {
      "text/html": [
       "<div>\n",
       "<style scoped>\n",
       "    .dataframe tbody tr th:only-of-type {\n",
       "        vertical-align: middle;\n",
       "    }\n",
       "\n",
       "    .dataframe tbody tr th {\n",
       "        vertical-align: top;\n",
       "    }\n",
       "\n",
       "    .dataframe thead th {\n",
       "        text-align: right;\n",
       "    }\n",
       "</style>\n",
       "<table border=\"1\" class=\"dataframe\">\n",
       "  <thead>\n",
       "    <tr style=\"text-align: right;\">\n",
       "      <th></th>\n",
       "      <th>txt</th>\n",
       "      <th>label</th>\n",
       "    </tr>\n",
       "  </thead>\n",
       "  <tbody>\n",
       "    <tr>\n",
       "      <th>7639</th>\n",
       "      <td>tertulusan mu untuk kebaikan negeri ini , itul...</td>\n",
       "      <td>positive</td>\n",
       "    </tr>\n",
       "    <tr>\n",
       "      <th>10224</th>\n",
       "      <td>handphone samsung milik ku benar-benar bagus d...</td>\n",
       "      <td>positive</td>\n",
       "    </tr>\n",
       "    <tr>\n",
       "      <th>8049</th>\n",
       "      <td>gampang marah kalau pakai indosat , di kota be...</td>\n",
       "      <td>negative</td>\n",
       "    </tr>\n",
       "    <tr>\n",
       "      <th>2098</th>\n",
       "      <td>penawaran spesial untuk charm bodyfit super sl...</td>\n",
       "      <td>neutral</td>\n",
       "    </tr>\n",
       "    <tr>\n",
       "      <th>9230</th>\n",
       "      <td>santai</td>\n",
       "      <td>positive</td>\n",
       "    </tr>\n",
       "  </tbody>\n",
       "</table>\n",
       "</div>"
      ],
      "text/plain": [
       "                                                     txt     label\n",
       "7639   tertulusan mu untuk kebaikan negeri ini , itul...  positive\n",
       "10224  handphone samsung milik ku benar-benar bagus d...  positive\n",
       "8049   gampang marah kalau pakai indosat , di kota be...  negative\n",
       "2098   penawaran spesial untuk charm bodyfit super sl...   neutral\n",
       "9230                                              santai  positive"
      ]
     },
     "execution_count": 1,
     "metadata": {},
     "output_type": "execute_result"
    }
   ],
   "source": [
    "# import library\n",
    "import pandas as pd\n",
    "\n",
    "# Loading dataset\n",
    "df = pd.read_table('train_preprocess.tsv.txt', delimiter='\\t', names=['txt', 'label'])\n",
    "df.sample(5)"
   ]
  },
  {
   "cell_type": "code",
   "execution_count": 2,
   "id": "53c12fe4-0984-4692-bc51-2e5da80cb9c1",
   "metadata": {
    "tags": []
   },
   "outputs": [
    {
     "data": {
      "text/plain": [
       "False"
      ]
     },
     "execution_count": 2,
     "metadata": {},
     "output_type": "execute_result"
    }
   ],
   "source": [
    "# checking for missing values\n",
    "df.isnull().values.any()"
   ]
  },
  {
   "cell_type": "code",
   "execution_count": 3,
   "id": "8121e829-bd23-4937-beb5-2449062099d8",
   "metadata": {
    "tags": []
   },
   "outputs": [
    {
     "name": "stdout",
     "output_type": "stream",
     "text": [
      "(11000, 2)\n",
      "          txt     label\n",
      "count   11000     11000\n",
      "unique  10933         3\n",
      "top     kesal  positive\n",
      "freq        4      6416\n",
      "label\n",
      "positive    6416\n",
      "negative    3436\n",
      "neutral     1148\n",
      "Name: count, dtype: int64\n"
     ]
    }
   ],
   "source": [
    "# inspect the Dataframe\n",
    "print(df.shape)\n",
    "print(df.describe())\n",
    "print(df.label.value_counts())"
   ]
  },
  {
   "cell_type": "markdown",
   "id": "14f93501-3ee9-40e1-b539-db237480361e",
   "metadata": {},
   "source": [
    "## Data Prerpocessing"
   ]
  },
  {
   "cell_type": "code",
   "execution_count": 4,
   "id": "45268de0-c87d-4308-9bb9-85f12b9b7afb",
   "metadata": {
    "tags": []
   },
   "outputs": [
    {
     "data": {
      "text/html": [
       "<div>\n",
       "<style scoped>\n",
       "    .dataframe tbody tr th:only-of-type {\n",
       "        vertical-align: middle;\n",
       "    }\n",
       "\n",
       "    .dataframe tbody tr th {\n",
       "        vertical-align: top;\n",
       "    }\n",
       "\n",
       "    .dataframe thead th {\n",
       "        text-align: right;\n",
       "    }\n",
       "</style>\n",
       "<table border=\"1\" class=\"dataframe\">\n",
       "  <thead>\n",
       "    <tr style=\"text-align: right;\">\n",
       "      <th></th>\n",
       "      <th>txt</th>\n",
       "      <th>label</th>\n",
       "      <th>text_clean</th>\n",
       "    </tr>\n",
       "  </thead>\n",
       "  <tbody>\n",
       "    <tr>\n",
       "      <th>9660</th>\n",
       "      <td>jalan-jalan ke bandung , terus mau ke tangkuba...</td>\n",
       "      <td>positive</td>\n",
       "      <td>jalan jalan ke bandung terus mau ke tangkuban ...</td>\n",
       "    </tr>\n",
       "    <tr>\n",
       "      <th>6932</th>\n",
       "      <td>ppp sebut ada pihak ingin gagalkan ridwan kami...</td>\n",
       "      <td>neutral</td>\n",
       "      <td>ppp sebut ada pihak ingin gagalkan ridwan kami...</td>\n",
       "    </tr>\n",
       "    <tr>\n",
       "      <th>10502</th>\n",
       "      <td>saya sependapat , acara tersebut harus dilenya...</td>\n",
       "      <td>negative</td>\n",
       "      <td>saya sependapat acara tersebut harus dilenyapk...</td>\n",
       "    </tr>\n",
       "    <tr>\n",
       "      <th>8147</th>\n",
       "      <td>pasangan wardan - su tidak hadiri konferensi p...</td>\n",
       "      <td>neutral</td>\n",
       "      <td>pasangan wardan su tidak hadiri konferensi per...</td>\n",
       "    </tr>\n",
       "    <tr>\n",
       "      <th>3556</th>\n",
       "      <td>tempat ini menyediakan makanan dan minuman yan...</td>\n",
       "      <td>positive</td>\n",
       "      <td>tempat ini menyediakan makanan dan minuman yan...</td>\n",
       "    </tr>\n",
       "  </tbody>\n",
       "</table>\n",
       "</div>"
      ],
      "text/plain": [
       "                                                     txt     label  \\\n",
       "9660   jalan-jalan ke bandung , terus mau ke tangkuba...  positive   \n",
       "6932   ppp sebut ada pihak ingin gagalkan ridwan kami...   neutral   \n",
       "10502  saya sependapat , acara tersebut harus dilenya...  negative   \n",
       "8147   pasangan wardan - su tidak hadiri konferensi p...   neutral   \n",
       "3556   tempat ini menyediakan makanan dan minuman yan...  positive   \n",
       "\n",
       "                                              text_clean  \n",
       "9660   jalan jalan ke bandung terus mau ke tangkuban ...  \n",
       "6932   ppp sebut ada pihak ingin gagalkan ridwan kami...  \n",
       "10502  saya sependapat acara tersebut harus dilenyapk...  \n",
       "8147   pasangan wardan su tidak hadiri konferensi per...  \n",
       "3556   tempat ini menyediakan makanan dan minuman yan...  "
      ]
     },
     "execution_count": 4,
     "metadata": {},
     "output_type": "execute_result"
    }
   ],
   "source": [
    "\n",
    "# upon change text, clean punctuation mark use regrex\n",
    "import re\n",
    "def cleansing(text):\n",
    "    text = text.lower()\n",
    "    text = text.strip()\n",
    "    text = re.sub(r'[^a-zA-Z]', ' ',text)\n",
    "    text = re.sub(r'[^\\w\\s]', '',text)\n",
    "    text = re.sub(r'\\s+[a-zA-Z]\\s+', ' ',text)\n",
    "    text = re.sub(r'\\s+', ' ',text)\n",
    "    text = re.sub(r'rt @\\w+:',' ',text)\n",
    "    text = re.sub(r'((www\\.[^\\s]+)|(https?://[^\\s]+)|(http?://[^\\s]+))|([#@]\\S+)|user|\\n|\\t', ' ', text)\n",
    "    return text\n",
    "\n",
    "df['text_clean'] = df['txt'].apply(cleansing)\n",
    "df.sample(5)"
   ]
  },
  {
   "cell_type": "code",
   "execution_count": 5,
   "id": "a677cde2-b900-4045-952b-26dbe832a1a5",
   "metadata": {
    "tags": []
   },
   "outputs": [
    {
     "name": "stdout",
     "output_type": "stream",
     "text": [
      "Pos: 6416, Neu: 1148, Neg: 3436\n",
      "Total data: 11000\n"
     ]
    }
   ],
   "source": [
    "# define label sentimen and save ke sebuah variable\n",
    "neg = df.loc[df['label'] == 'negative'].text_clean.tolist()\n",
    "neu = df.loc[df['label'] == 'neutral'].text_clean.tolist()\n",
    "pos = df.loc[df['label'] == 'positive'].text_clean.tolist()\n",
    "\n",
    "neg_label = df.loc[df['label'] == 'negative'].label.tolist()\n",
    "neu_label = df.loc[df['label'] == 'neutral'].label.tolist()\n",
    "pos_label = df.loc[df['label'] == 'positive'].label.tolist()\n",
    "\n",
    "total_data = pos + neu + neg\n",
    "labels = pos_label + neu_label + neg_label\n",
    "\n",
    "print(\"Pos: %s, Neu: %s, Neg: %s\" % (len(pos), len(neu), len(neg)))\n",
    "print(\"Total data: %s\" % len(total_data))"
   ]
  },
  {
   "cell_type": "markdown",
   "id": "28d18a10-eaec-48ef-92ad-6b7037550c8c",
   "metadata": {},
   "source": [
    "## Feature Extraction"
   ]
  },
  {
   "cell_type": "code",
   "execution_count": 6,
   "id": "2e55a70d-7586-4128-b751-616b218e7fe7",
   "metadata": {
    "tags": []
   },
   "outputs": [],
   "source": [
    "import sklearn as sk\n",
    "import math"
   ]
  },
  {
   "cell_type": "code",
   "execution_count": 7,
   "id": "a47fccf5-76e7-450a-90b2-6bb4fe7153a1",
   "metadata": {
    "tags": []
   },
   "outputs": [
    {
     "name": "stdout",
     "output_type": "stream",
     "text": [
      "Feature Extraction selesai\n"
     ]
    }
   ],
   "source": [
    "# feature extraction with metode TF-IDF (inverse Document Frequency)\n",
    "from sklearn.feature_extraction.text import TfidfVectorizer\n",
    "\n",
    "total_data = df['text_clean'].tolist()\n",
    "\n",
    "# Proses Feature Extraction\n",
    "tfidf_vect = TfidfVectorizer()\n",
    "tfidf_vect.fit(total_data)\n",
    "\n",
    "X = tfidf_vect.fit_transform(total_data)\n",
    "print(\"Feature Extraction selesai\")"
   ]
  },
  {
   "cell_type": "code",
   "execution_count": 8,
   "id": "3be26805-f97e-454c-b389-b290da767a3d",
   "metadata": {
    "tags": []
   },
   "outputs": [
    {
     "data": {
      "text/html": [
       "<style>#sk-container-id-1 {color: black;}#sk-container-id-1 pre{padding: 0;}#sk-container-id-1 div.sk-toggleable {background-color: white;}#sk-container-id-1 label.sk-toggleable__label {cursor: pointer;display: block;width: 100%;margin-bottom: 0;padding: 0.3em;box-sizing: border-box;text-align: center;}#sk-container-id-1 label.sk-toggleable__label-arrow:before {content: \"▸\";float: left;margin-right: 0.25em;color: #696969;}#sk-container-id-1 label.sk-toggleable__label-arrow:hover:before {color: black;}#sk-container-id-1 div.sk-estimator:hover label.sk-toggleable__label-arrow:before {color: black;}#sk-container-id-1 div.sk-toggleable__content {max-height: 0;max-width: 0;overflow: hidden;text-align: left;background-color: #f0f8ff;}#sk-container-id-1 div.sk-toggleable__content pre {margin: 0.2em;color: black;border-radius: 0.25em;background-color: #f0f8ff;}#sk-container-id-1 input.sk-toggleable__control:checked~div.sk-toggleable__content {max-height: 200px;max-width: 100%;overflow: auto;}#sk-container-id-1 input.sk-toggleable__control:checked~label.sk-toggleable__label-arrow:before {content: \"▾\";}#sk-container-id-1 div.sk-estimator input.sk-toggleable__control:checked~label.sk-toggleable__label {background-color: #d4ebff;}#sk-container-id-1 div.sk-label input.sk-toggleable__control:checked~label.sk-toggleable__label {background-color: #d4ebff;}#sk-container-id-1 input.sk-hidden--visually {border: 0;clip: rect(1px 1px 1px 1px);clip: rect(1px, 1px, 1px, 1px);height: 1px;margin: -1px;overflow: hidden;padding: 0;position: absolute;width: 1px;}#sk-container-id-1 div.sk-estimator {font-family: monospace;background-color: #f0f8ff;border: 1px dotted black;border-radius: 0.25em;box-sizing: border-box;margin-bottom: 0.5em;}#sk-container-id-1 div.sk-estimator:hover {background-color: #d4ebff;}#sk-container-id-1 div.sk-parallel-item::after {content: \"\";width: 100%;border-bottom: 1px solid gray;flex-grow: 1;}#sk-container-id-1 div.sk-label:hover label.sk-toggleable__label {background-color: #d4ebff;}#sk-container-id-1 div.sk-serial::before {content: \"\";position: absolute;border-left: 1px solid gray;box-sizing: border-box;top: 0;bottom: 0;left: 50%;z-index: 0;}#sk-container-id-1 div.sk-serial {display: flex;flex-direction: column;align-items: center;background-color: white;padding-right: 0.2em;padding-left: 0.2em;position: relative;}#sk-container-id-1 div.sk-item {position: relative;z-index: 1;}#sk-container-id-1 div.sk-parallel {display: flex;align-items: stretch;justify-content: center;background-color: white;position: relative;}#sk-container-id-1 div.sk-item::before, #sk-container-id-1 div.sk-parallel-item::before {content: \"\";position: absolute;border-left: 1px solid gray;box-sizing: border-box;top: 0;bottom: 0;left: 50%;z-index: -1;}#sk-container-id-1 div.sk-parallel-item {display: flex;flex-direction: column;z-index: 1;position: relative;background-color: white;}#sk-container-id-1 div.sk-parallel-item:first-child::after {align-self: flex-end;width: 50%;}#sk-container-id-1 div.sk-parallel-item:last-child::after {align-self: flex-start;width: 50%;}#sk-container-id-1 div.sk-parallel-item:only-child::after {width: 0;}#sk-container-id-1 div.sk-dashed-wrapped {border: 1px dashed gray;margin: 0 0.4em 0.5em 0.4em;box-sizing: border-box;padding-bottom: 0.4em;background-color: white;}#sk-container-id-1 div.sk-label label {font-family: monospace;font-weight: bold;display: inline-block;line-height: 1.2em;}#sk-container-id-1 div.sk-label-container {text-align: center;}#sk-container-id-1 div.sk-container {/* jupyter's `normalize.less` sets `[hidden] { display: none; }` but bootstrap.min.css set `[hidden] { display: none !important; }` so we also need the `!important` here to be able to override the default hidden behavior on the sphinx rendered scikit-learn.org. See: https://github.com/scikit-learn/scikit-learn/issues/21755 */display: inline-block !important;position: relative;}#sk-container-id-1 div.sk-text-repr-fallback {display: none;}</style><div id=\"sk-container-id-1\" class=\"sk-top-container\"><div class=\"sk-text-repr-fallback\"><pre>TfidfVectorizer()</pre><b>In a Jupyter environment, please rerun this cell to show the HTML representation or trust the notebook. <br />On GitHub, the HTML representation is unable to render, please try loading this page with nbviewer.org.</b></div><div class=\"sk-container\" hidden><div class=\"sk-item\"><div class=\"sk-estimator sk-toggleable\"><input class=\"sk-toggleable__control sk-hidden--visually\" id=\"sk-estimator-id-1\" type=\"checkbox\" checked><label for=\"sk-estimator-id-1\" class=\"sk-toggleable__label sk-toggleable__label-arrow\">TfidfVectorizer</label><div class=\"sk-toggleable__content\"><pre>TfidfVectorizer()</pre></div></div></div></div></div>"
      ],
      "text/plain": [
       "TfidfVectorizer()"
      ]
     },
     "execution_count": 8,
     "metadata": {},
     "output_type": "execute_result"
    }
   ],
   "source": [
    "tfidf_vect"
   ]
  },
  {
   "cell_type": "code",
   "execution_count": 11,
   "id": "58e7dbb8-587c-4244-b3ed-beea9d83bd8b",
   "metadata": {
    "tags": []
   },
   "outputs": [],
   "source": [
    "# import and save to pickle\n",
    "import pickle\n",
    "\n",
    "with open('tfidf_vect.pkl', 'wb') as f:\n",
    "    pickle.dump(tfidf_vect, f)"
   ]
  },
  {
   "cell_type": "code",
   "execution_count": 13,
   "id": "f42df861-2f77-4fd7-8587-c7f7f7026423",
   "metadata": {
    "tags": []
   },
   "outputs": [],
   "source": [
    "with open('tfidf_vect.pkl', 'rb') as f:\n",
    "    prepro = pickle.load(f)"
   ]
  },
  {
   "cell_type": "code",
   "execution_count": 14,
   "id": "695450d8-6922-4b3a-ba83-778ee5268cf3",
   "metadata": {
    "tags": []
   },
   "outputs": [
    {
     "data": {
      "text/plain": [
       "16790"
      ]
     },
     "execution_count": 14,
     "metadata": {},
     "output_type": "execute_result"
    }
   ],
   "source": [
    "list_word = tfidf_vect.get_feature_names_out()\n",
    "len(list_word)"
   ]
  },
  {
   "cell_type": "code",
   "execution_count": 15,
   "id": "b0e03e12-9e9b-41a5-97ae-4d0305632798",
   "metadata": {
    "tags": []
   },
   "outputs": [
    {
     "data": {
      "text/plain": [
       "<11000x16790 sparse matrix of type '<class 'numpy.float64'>'\n",
       "\twith 267262 stored elements in Compressed Sparse Row format>"
      ]
     },
     "execution_count": 15,
     "metadata": {},
     "output_type": "execute_result"
    }
   ],
   "source": [
    "X = tfidf_vect.transform(total_data)\n",
    "X"
   ]
  },
  {
   "cell_type": "markdown",
   "id": "1ec2fa08-ea57-4c26-b1e6-c136d4c5298b",
   "metadata": {},
   "source": [
    "## Train Test split"
   ]
  },
  {
   "cell_type": "code",
   "execution_count": 16,
   "id": "5b5e4cca-351e-4252-a6eb-592e60e87111",
   "metadata": {
    "tags": []
   },
   "outputs": [
    {
     "data": {
      "text/plain": [
       "0        positive\n",
       "1         neutral\n",
       "2        positive\n",
       "3        positive\n",
       "4        negative\n",
       "           ...   \n",
       "10995    positive\n",
       "10996    positive\n",
       "10997     neutral\n",
       "10998    negative\n",
       "10999    positive\n",
       "Name: label, Length: 11000, dtype: object"
      ]
     },
     "execution_count": 16,
     "metadata": {},
     "output_type": "execute_result"
    }
   ],
   "source": [
    "# split dataset 80 data & 20 data uji for training dan testing\n",
    "from sklearn.model_selection import train_test_split\n",
    "\n",
    "y = df.label\n",
    "y"
   ]
  },
  {
   "cell_type": "code",
   "execution_count": 17,
   "id": "955d2057-f657-4500-aa23-8a0da49c6149",
   "metadata": {
    "tags": []
   },
   "outputs": [
    {
     "name": "stdout",
     "output_type": "stream",
     "text": [
      "X_Train size: 8800\n",
      "y_train size: 8800\n",
      "X_test size: 2200\n",
      "y_test size: 2200\n"
     ]
    }
   ],
   "source": [
    "\n",
    "X_train, X_test, y_train, y_test = train_test_split(\n",
    "    X, y, test_size=0.2, random_state=42)\n",
    "   \n",
    "print(f\"X_Train size: {X_train.shape[0]}\")\n",
    "print(f\"y_train size: {y_train.shape[0]}\")\n",
    "print(f\"X_test size: {X_test.shape[0]}\")\n",
    "print(f\"y_test size: {y_test.shape[0]}\")"
   ]
  },
  {
   "cell_type": "code",
   "execution_count": 18,
   "id": "001ea5a7-fb83-4f90-8463-4c08cd8131a8",
   "metadata": {
    "tags": []
   },
   "outputs": [
    {
     "data": {
      "text/plain": [
       "label\n",
       "positive    5135\n",
       "negative    2756\n",
       "neutral      909\n",
       "Name: count, dtype: int64"
      ]
     },
     "execution_count": 18,
     "metadata": {},
     "output_type": "execute_result"
    }
   ],
   "source": [
    "pd.Series(y_train).value_counts()"
   ]
  },
  {
   "cell_type": "code",
   "execution_count": 19,
   "id": "44a0e411-4346-49d6-a745-297ca4468b1b",
   "metadata": {
    "tags": []
   },
   "outputs": [
    {
     "data": {
      "text/plain": [
       "label\n",
       "positive    1281\n",
       "negative     680\n",
       "neutral      239\n",
       "Name: count, dtype: int64"
      ]
     },
     "execution_count": 19,
     "metadata": {},
     "output_type": "execute_result"
    }
   ],
   "source": [
    "pd.Series(y_test).value_counts()"
   ]
  },
  {
   "cell_type": "markdown",
   "id": "94fd718f-d188-4ca6-b14e-f1d3ea301c7a",
   "metadata": {},
   "source": [
    "## Model Training"
   ]
  },
  {
   "cell_type": "code",
   "execution_count": 20,
   "id": "8a546dd8-5750-47eb-a18a-640b890ebca4",
   "metadata": {
    "tags": []
   },
   "outputs": [
    {
     "name": "stdout",
     "output_type": "stream",
     "text": [
      "Training selesai\n"
     ]
    }
   ],
   "source": [
    "# metode training with neural network use modul MLPClassifier from library SKlearn\n",
    "\n",
    "from sklearn.neural_network import MLPClassifier, MLPRegressor\n",
    "\n",
    "# Initialize model\n",
    "\n",
    "model = MLPClassifier(hidden_layer_sizes=(8,8,8), activation='relu', solver='adam', max_iter=300, random_state=1)\n",
    "\n",
    "# Training\n",
    "\n",
    "model.fit(X_train, y_train)\n",
    "print(\"Training selesai\")"
   ]
  },
  {
   "cell_type": "code",
   "execution_count": 21,
   "id": "15865766-223c-4254-8d3b-f6373be7fd0b",
   "metadata": {},
   "outputs": [],
   "source": [
    "# save to pickle\n",
    "with open('neural_network_model.pkl', 'wb') as file:\n",
    "    pickle.dump(model, file)"
   ]
  },
  {
   "cell_type": "code",
   "execution_count": 22,
   "id": "d57731db-9782-4cbd-9694-67b9e51007fb",
   "metadata": {},
   "outputs": [],
   "source": [
    "# Load Model\n",
    "with open('neural_network_model.pkl', 'rb') as file:\n",
    "    model = pickle.load(file)"
   ]
  },
  {
   "cell_type": "markdown",
   "id": "129c55ee-bf4b-42ef-bece-aefa88ede2bc",
   "metadata": {},
   "source": [
    "## Model Evaluation"
   ]
  },
  {
   "cell_type": "code",
   "execution_count": 23,
   "id": "bc48c93f-43c2-404b-b158-8bbea78ded8b",
   "metadata": {},
   "outputs": [
    {
     "name": "stdout",
     "output_type": "stream",
     "text": [
      "Testing selesai\n",
      "              precision    recall  f1-score   support\n",
      "\n",
      "    negative       0.79      0.79      0.79       680\n",
      "     neutral       0.88      0.68      0.76       239\n",
      "    positive       0.87      0.91      0.89      1281\n",
      "\n",
      "    accuracy                           0.85      2200\n",
      "   macro avg       0.85      0.79      0.81      2200\n",
      "weighted avg       0.85      0.85      0.85      2200\n",
      "\n"
     ]
    }
   ],
   "source": [
    "# evaluation yang di pakai dari SKlearn untuk melakukan evaluasi \"classification_report\"\n",
    "\n",
    "from sklearn.metrics import classification_report\n",
    "\n",
    "test = model.predict(X_test)\n",
    "\n",
    "print(\"Testing selesai\")\n",
    "\n",
    "print(classification_report(y_test, test, zero_division=0))"
   ]
  },
  {
   "cell_type": "markdown",
   "id": "2dd58477-19f3-470d-9499-542746a9ff53",
   "metadata": {},
   "source": [
    "## Cross validation"
   ]
  },
  {
   "cell_type": "code",
   "execution_count": 24,
   "id": "5bef33df-6e73-4768-a477-ea76a67134ee",
   "metadata": {},
   "outputs": [
    {
     "name": "stdout",
     "output_type": "stream",
     "text": [
      "Training ke- 1\n",
      "              precision    recall  f1-score   support\n",
      "\n",
      "    negative       0.78      0.78      0.78       680\n",
      "     neutral       0.83      0.70      0.76       239\n",
      "    positive       0.87      0.89      0.88      1281\n",
      "\n",
      "    accuracy                           0.84      2200\n",
      "   macro avg       0.82      0.79      0.81      2200\n",
      "weighted avg       0.84      0.84      0.84      2200\n",
      "\n",
      "========================================================\n",
      "Training ke- 2\n",
      "              precision    recall  f1-score   support\n",
      "\n",
      "    negative       0.79      0.75      0.77       706\n",
      "     neutral       0.74      0.71      0.73       220\n",
      "    positive       0.87      0.91      0.89      1274\n",
      "\n",
      "    accuracy                           0.84      2200\n",
      "   macro avg       0.80      0.79      0.80      2200\n",
      "weighted avg       0.83      0.84      0.83      2200\n",
      "\n",
      "========================================================\n",
      "Training ke- 3\n",
      "              precision    recall  f1-score   support\n",
      "\n",
      "    negative       0.79      0.77      0.78       682\n",
      "     neutral       0.82      0.73      0.77       215\n",
      "    positive       0.88      0.91      0.89      1303\n",
      "\n",
      "    accuracy                           0.85      2200\n",
      "   macro avg       0.83      0.80      0.82      2200\n",
      "weighted avg       0.85      0.85      0.85      2200\n",
      "\n",
      "========================================================\n",
      "Training ke- 4\n",
      "              precision    recall  f1-score   support\n",
      "\n",
      "    negative       0.78      0.79      0.78       698\n",
      "     neutral       0.83      0.69      0.75       229\n",
      "    positive       0.88      0.90      0.89      1273\n",
      "\n",
      "    accuracy                           0.84      2200\n",
      "   macro avg       0.83      0.79      0.81      2200\n",
      "weighted avg       0.84      0.84      0.84      2200\n",
      "\n",
      "========================================================\n",
      "Training ke- 5\n",
      "              precision    recall  f1-score   support\n",
      "\n",
      "    negative       0.77      0.81      0.79       670\n",
      "     neutral       0.78      0.68      0.72       245\n",
      "    positive       0.90      0.89      0.89      1285\n",
      "\n",
      "    accuracy                           0.84      2200\n",
      "   macro avg       0.82      0.79      0.80      2200\n",
      "weighted avg       0.84      0.84      0.84      2200\n",
      "\n",
      "========================================================\n",
      "\n",
      "\n",
      "\n",
      "Rata-rata Accuracy:  0.8419090909090909\n"
     ]
    }
   ],
   "source": [
    "# menguji model yang sudah kita buat (cross-validation)\n",
    "import numpy as np\n",
    "from sklearn.neural_network import MLPClassifier\n",
    "from sklearn.metrics import classification_report\n",
    "from sklearn.metrics import accuracy_score\n",
    "from sklearn.model_selection import KFold\n",
    "\n",
    "# KFold divides all the samples in k groups of samples\n",
    "kf = KFold(n_splits=5, random_state=42, shuffle=True)\n",
    "\n",
    "accuracies = []\n",
    "\n",
    "y = y\n",
    "\n",
    "for iteration, data in enumerate(kf.split(X), start=1):\n",
    "    \n",
    "    data_train = X[data[0]]\n",
    "    target_train = y[data[0]]\n",
    "    \n",
    "    data_test = X[data[1]]\n",
    "    target_test = y[data[1]]\n",
    "    \n",
    "    clf = MLPClassifier(random_state=1, max_iter=300)\n",
    "    clf.fit(data_train, target_train)\n",
    "    \n",
    "    preds = clf.predict(data_test)\n",
    "    \n",
    "    accuracy = accuracy_score(target_test,preds)\n",
    "    \n",
    "    \n",
    "    print(\"Training ke-\", iteration)\n",
    "    print(classification_report(target_test,preds, zero_division=0))\n",
    "    print(\"========================================================\")\n",
    "\n",
    "    accuracies.append(accuracy)\n",
    "\n",
    "average_accuracy = np.mean(accuracies)\n",
    "\n",
    "print()\n",
    "print()\n",
    "print()\n",
    "print(\"Rata-rata Accuracy: \", average_accuracy)"
   ]
  },
  {
   "cell_type": "markdown",
   "id": "ba76be21-2dad-40ef-a196-61e3a40f9db8",
   "metadata": {},
   "source": [
    "## Model Predict"
   ]
  },
  {
   "cell_type": "code",
   "execution_count": 25,
   "id": "53b10100-3c83-4580-a340-cc27e648de30",
   "metadata": {
    "tags": []
   },
   "outputs": [
    {
     "name": "stdout",
     "output_type": "stream",
     "text": [
      "text: \n",
      "rasa syukur, cukup.\n",
      "\n",
      "Sentiment: positive\n"
     ]
    }
   ],
   "source": [
    "original_text = '''\n",
    "rasa syukur, cukup.\n",
    "'''\n",
    "\n",
    "text = prepro.transform([cleansing(original_text)])\n",
    "\n",
    "result = model.predict(text)[0]\n",
    "print(f\"text: {original_text}\\nSentiment:\", result)"
   ]
  },
  {
   "cell_type": "code",
   "execution_count": 26,
   "id": "a17349d7-318f-422d-bf7c-d2f32fb16a86",
   "metadata": {
    "tags": []
   },
   "outputs": [
    {
     "name": "stdout",
     "output_type": "stream",
     "text": [
      "Collecting mlxtend\n",
      "  Downloading mlxtend-0.22.0-py2.py3-none-any.whl (1.4 MB)\n",
      "     ---------------------------------------- 0.0/1.4 MB ? eta -:--:--\n",
      "     ---------------------------------------- 0.0/1.4 MB ? eta -:--:--\n",
      "     --- ------------------------------------ 0.1/1.4 MB 2.2 MB/s eta 0:00:01\n",
      "     ---- ----------------------------------- 0.2/1.4 MB 1.5 MB/s eta 0:00:01\n",
      "     ------ --------------------------------- 0.2/1.4 MB 1.7 MB/s eta 0:00:01\n",
      "     ------ --------------------------------- 0.2/1.4 MB 1.7 MB/s eta 0:00:01\n",
      "     -------- ------------------------------- 0.3/1.4 MB 1.2 MB/s eta 0:00:01\n",
      "     --------- ------------------------------ 0.3/1.4 MB 1.2 MB/s eta 0:00:01\n",
      "     ---------- ----------------------------- 0.4/1.4 MB 1.1 MB/s eta 0:00:01\n",
      "     ----------- ---------------------------- 0.4/1.4 MB 1.1 MB/s eta 0:00:01\n",
      "     ----------- ---------------------------- 0.4/1.4 MB 1.0 MB/s eta 0:00:01\n",
      "     ------------- -------------------------- 0.5/1.4 MB 1.0 MB/s eta 0:00:01\n",
      "     --------------- ------------------------ 0.5/1.4 MB 1.0 MB/s eta 0:00:01\n",
      "     ---------------- ----------------------- 0.5/1.4 MB 947.5 kB/s eta 0:00:01\n",
      "     ----------------- ---------------------- 0.6/1.4 MB 982.6 kB/s eta 0:00:01\n",
      "     ------------------ --------------------- 0.6/1.4 MB 958.5 kB/s eta 0:00:01\n",
      "     ------------------- -------------------- 0.6/1.4 MB 924.1 kB/s eta 0:00:01\n",
      "     ------------------- -------------------- 0.7/1.4 MB 906.8 kB/s eta 0:00:01\n",
      "     --------------------- ------------------ 0.7/1.4 MB 917.8 kB/s eta 0:00:01\n",
      "     ----------------------- ---------------- 0.8/1.4 MB 946.4 kB/s eta 0:00:01\n",
      "     ------------------------ --------------- 0.8/1.4 MB 930.9 kB/s eta 0:00:01\n",
      "     ------------------------- -------------- 0.9/1.4 MB 932.9 kB/s eta 0:00:01\n",
      "     --------------------------- ------------ 0.9/1.4 MB 956.3 kB/s eta 0:00:01\n",
      "     ----------------------------- ---------- 1.0/1.4 MB 957.5 kB/s eta 0:00:01\n",
      "     ----------------------------- ---------- 1.0/1.4 MB 944.9 kB/s eta 0:00:01\n",
      "     ------------------------------ --------- 1.0/1.4 MB 959.4 kB/s eta 0:00:01\n",
      "     -------------------------------- ------- 1.1/1.4 MB 956.7 kB/s eta 0:00:01\n",
      "     ---------------------------------- ----- 1.2/1.4 MB 970.4 kB/s eta 0:00:01\n",
      "     ----------------------------------- ---- 1.2/1.4 MB 974.4 kB/s eta 0:00:01\n",
      "     ------------------------------------ --- 1.2/1.4 MB 959.2 kB/s eta 0:00:01\n",
      "     -------------------------------------- - 1.3/1.4 MB 967.6 kB/s eta 0:00:01\n",
      "     ---------------------------------------  1.4/1.4 MB 964.4 kB/s eta 0:00:01\n",
      "     ---------------------------------------- 1.4/1.4 MB 944.3 kB/s eta 0:00:00\n",
      "Requirement already satisfied: scipy>=1.2.1 in c:\\users\\ahmad fadlan amin\\binar_platinum_challenge\\venv\\lib\\site-packages (from mlxtend) (1.11.1)\n",
      "Requirement already satisfied: numpy>=1.16.2 in c:\\users\\ahmad fadlan amin\\binar_platinum_challenge\\venv\\lib\\site-packages (from mlxtend) (1.24.3)\n",
      "Requirement already satisfied: pandas>=0.24.2 in c:\\users\\ahmad fadlan amin\\binar_platinum_challenge\\venv\\lib\\site-packages (from mlxtend) (2.0.3)\n",
      "Requirement already satisfied: scikit-learn>=1.0.2 in c:\\users\\ahmad fadlan amin\\binar_platinum_challenge\\venv\\lib\\site-packages (from mlxtend) (1.3.0)\n",
      "Requirement already satisfied: matplotlib>=3.0.0 in c:\\users\\ahmad fadlan amin\\binar_platinum_challenge\\venv\\lib\\site-packages (from mlxtend) (3.7.2)\n",
      "Requirement already satisfied: joblib>=0.13.2 in c:\\users\\ahmad fadlan amin\\binar_platinum_challenge\\venv\\lib\\site-packages (from mlxtend) (1.3.2)\n",
      "Requirement already satisfied: setuptools in c:\\users\\ahmad fadlan amin\\binar_platinum_challenge\\venv\\lib\\site-packages (from mlxtend) (68.0.0)\n",
      "Requirement already satisfied: contourpy>=1.0.1 in c:\\users\\ahmad fadlan amin\\binar_platinum_challenge\\venv\\lib\\site-packages (from matplotlib>=3.0.0->mlxtend) (1.1.0)\n",
      "Requirement already satisfied: cycler>=0.10 in c:\\users\\ahmad fadlan amin\\binar_platinum_challenge\\venv\\lib\\site-packages (from matplotlib>=3.0.0->mlxtend) (0.11.0)\n",
      "Requirement already satisfied: fonttools>=4.22.0 in c:\\users\\ahmad fadlan amin\\binar_platinum_challenge\\venv\\lib\\site-packages (from matplotlib>=3.0.0->mlxtend) (4.42.0)\n",
      "Requirement already satisfied: kiwisolver>=1.0.1 in c:\\users\\ahmad fadlan amin\\binar_platinum_challenge\\venv\\lib\\site-packages (from matplotlib>=3.0.0->mlxtend) (1.4.4)\n",
      "Requirement already satisfied: packaging>=20.0 in c:\\users\\ahmad fadlan amin\\binar_platinum_challenge\\venv\\lib\\site-packages (from matplotlib>=3.0.0->mlxtend) (23.1)\n",
      "Requirement already satisfied: pillow>=6.2.0 in c:\\users\\ahmad fadlan amin\\binar_platinum_challenge\\venv\\lib\\site-packages (from matplotlib>=3.0.0->mlxtend) (10.0.0)\n",
      "Requirement already satisfied: pyparsing<3.1,>=2.3.1 in c:\\users\\ahmad fadlan amin\\binar_platinum_challenge\\venv\\lib\\site-packages (from matplotlib>=3.0.0->mlxtend) (3.0.9)\n",
      "Requirement already satisfied: python-dateutil>=2.7 in c:\\users\\ahmad fadlan amin\\binar_platinum_challenge\\venv\\lib\\site-packages (from matplotlib>=3.0.0->mlxtend) (2.8.2)\n",
      "Requirement already satisfied: pytz>=2020.1 in c:\\users\\ahmad fadlan amin\\binar_platinum_challenge\\venv\\lib\\site-packages (from pandas>=0.24.2->mlxtend) (2023.3)\n",
      "Requirement already satisfied: tzdata>=2022.1 in c:\\users\\ahmad fadlan amin\\binar_platinum_challenge\\venv\\lib\\site-packages (from pandas>=0.24.2->mlxtend) (2023.3)\n",
      "Requirement already satisfied: threadpoolctl>=2.0.0 in c:\\users\\ahmad fadlan amin\\binar_platinum_challenge\\venv\\lib\\site-packages (from scikit-learn>=1.0.2->mlxtend) (3.2.0)\n",
      "Requirement already satisfied: six>=1.5 in c:\\users\\ahmad fadlan amin\\binar_platinum_challenge\\venv\\lib\\site-packages (from python-dateutil>=2.7->matplotlib>=3.0.0->mlxtend) (1.16.0)\n",
      "Installing collected packages: mlxtend\n",
      "Successfully installed mlxtend-0.22.0\n"
     ]
    }
   ],
   "source": [
    "!pip install mlxtend"
   ]
  },
  {
   "cell_type": "code",
   "execution_count": 28,
   "id": "832cb46f-8499-4c0c-b2f9-9bb7f1d0dd07",
   "metadata": {
    "tags": []
   },
   "outputs": [
    {
     "data": {
      "image/png": "[encoded data removed]",
      "text/plain": [
       "<Figure size 640x480 with 1 Axes>"
      ]
     },
     "metadata": {},
     "output_type": "display_data"
    }
   ],
   "source": [
    "import matplotlib.pyplot as plt\n",
    "from mlxtend.plotting import plot_confusion_matrix\n",
    "from sklearn.metrics import confusion_matrix\n",
    "\n",
    "conf_mat = confusion_matrix(target_test,preds)\n",
    "plot_confusion_matrix(conf_mat)\n",
    "\n",
    "plt.show()"
   ]
  },
  {
   "cell_type": "code",
   "execution_count": 29,
   "id": "d7f07ab0-907c-4bd1-886b-04a7450255dd",
   "metadata": {
    "tags": []
   },
   "outputs": [
    {
     "data": {
      "text/html": [
       "<div>\n",
       "<style scoped>\n",
       "    .dataframe tbody tr th:only-of-type {\n",
       "        vertical-align: middle;\n",
       "    }\n",
       "\n",
       "    .dataframe tbody tr th {\n",
       "        vertical-align: top;\n",
       "    }\n",
       "\n",
       "    .dataframe thead th {\n",
       "        text-align: right;\n",
       "    }\n",
       "</style>\n",
       "<table border=\"1\" class=\"dataframe\">\n",
       "  <thead>\n",
       "    <tr style=\"text-align: right;\">\n",
       "      <th></th>\n",
       "      <th>True Data</th>\n",
       "      <th>Prediction</th>\n",
       "    </tr>\n",
       "  </thead>\n",
       "  <tbody>\n",
       "    <tr>\n",
       "      <th>664</th>\n",
       "      <td>positive</td>\n",
       "      <td>positive</td>\n",
       "    </tr>\n",
       "    <tr>\n",
       "      <th>667</th>\n",
       "      <td>negative</td>\n",
       "      <td>negative</td>\n",
       "    </tr>\n",
       "    <tr>\n",
       "      <th>337</th>\n",
       "      <td>negative</td>\n",
       "      <td>negative</td>\n",
       "    </tr>\n",
       "    <tr>\n",
       "      <th>723</th>\n",
       "      <td>positive</td>\n",
       "      <td>positive</td>\n",
       "    </tr>\n",
       "    <tr>\n",
       "      <th>475</th>\n",
       "      <td>positive</td>\n",
       "      <td>positive</td>\n",
       "    </tr>\n",
       "    <tr>\n",
       "      <th>661</th>\n",
       "      <td>negative</td>\n",
       "      <td>negative</td>\n",
       "    </tr>\n",
       "    <tr>\n",
       "      <th>375</th>\n",
       "      <td>positive</td>\n",
       "      <td>positive</td>\n",
       "    </tr>\n",
       "    <tr>\n",
       "      <th>695</th>\n",
       "      <td>neutral</td>\n",
       "      <td>neutral</td>\n",
       "    </tr>\n",
       "    <tr>\n",
       "      <th>705</th>\n",
       "      <td>positive</td>\n",
       "      <td>positive</td>\n",
       "    </tr>\n",
       "    <tr>\n",
       "      <th>1787</th>\n",
       "      <td>positive</td>\n",
       "      <td>positive</td>\n",
       "    </tr>\n",
       "  </tbody>\n",
       "</table>\n",
       "</div>"
      ],
      "text/plain": [
       "     True Data Prediction\n",
       "664   positive   positive\n",
       "667   negative   negative\n",
       "337   negative   negative\n",
       "723   positive   positive\n",
       "475   positive   positive\n",
       "661   negative   negative\n",
       "375   positive   positive\n",
       "695    neutral    neutral\n",
       "705   positive   positive\n",
       "1787  positive   positive"
      ]
     },
     "execution_count": 29,
     "metadata": {},
     "output_type": "execute_result"
    }
   ],
   "source": [
    "# Manual Compare\n",
    "prediction_data = pd.DataFrame({'True Data':target_test.values.ravel(), 'Prediction':preds})\n",
    "prediction_data.sample(10)"
   ]
  }
 ],
 "metadata": {
  "kernelspec": {
   "display_name": "Python 3 (ipykernel)",
   "language": "python",
   "name": "python3"
  },
  "language_info": {
   "codemirror_mode": {
    "name": "ipython",
    "version": 3
   },
   "file_extension": ".py",
   "mimetype": "text/x-python",
   "name": "python",
   "nbconvert_exporter": "python",
   "pygments_lexer": "ipython3",
   "version": "3.11.3"
  }
 },
 "nbformat": 4,
 "nbformat_minor": 5
}
